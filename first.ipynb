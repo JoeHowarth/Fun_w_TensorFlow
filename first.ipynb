{
 "cells": [
  {
   "cell_type": "code",
   "execution_count": 1,
   "metadata": {
    "collapsed": false
   },
   "outputs": [],
   "source": [
    "import tensorflow as tf\n",
    "import numpy as np\n",
    "from collections import Counter\n",
    "import pandas"
   ]
  },
  {
   "cell_type": "code",
   "execution_count": 2,
   "metadata": {
    "collapsed": true
   },
   "outputs": [],
   "source": [
    "vocab = Counter()\n",
    "\n",
    "text = \"Hi from Brazil\"\n",
    "\n",
    "for word in text.split(' '):\n",
    "    word_lowercase = word.lower()\n",
    "    vocab[word_lowercase]+=1\n",
    "        \n",
    "def get_word_2_index(vocab):\n",
    "    word2index = {}\n",
    "    for i,word in enumerate(vocab):\n",
    "        word2index[word] = i\n",
    "        \n",
    "    return word2index"
   ]
  },
  {
   "cell_type": "code",
   "execution_count": 3,
   "metadata": {
    "collapsed": false
   },
   "outputs": [
    {
     "name": "stdout",
     "output_type": "stream",
     "text": [
      "Hi from Brazil: [ 1.  1.  1.]\n"
     ]
    }
   ],
   "source": [
    "word2index = get_word_2_index(vocab)\n",
    "\n",
    "total_words = len(vocab)\n",
    "matrix = np.zeros((total_words),dtype=float)\n",
    "\n",
    "for word in text.split():\n",
    "    matrix[word2index[word.lower()]] += 1\n",
    "    \n",
    "print(\"Hi from Brazil:\", matrix)"
   ]
  },
  {
   "cell_type": "code",
   "execution_count": 4,
   "metadata": {
    "collapsed": false
   },
   "outputs": [
    {
     "name": "stdout",
     "output_type": "stream",
     "text": [
      "Hi: [ 0.  1.  0.]\n"
     ]
    }
   ],
   "source": [
    "matrix = np.zeros((total_words),dtype=float)\n",
    "text = \"Hi\"\n",
    "for word in text.split():\n",
    "    matrix[word2index[word.lower()]] += 1\n",
    "    \n",
    "print(\"Hi:\", matrix)"
   ]
  },
  {
   "cell_type": "code",
   "execution_count": 5,
   "metadata": {
    "collapsed": false
   },
   "outputs": [],
   "source": [
    "from sklearn.datasets import fetch_20newsgroups\n",
    "categories = [\"comp.graphics\", \"sci.space\", \"rec.sport.baseball\"]\n",
    "\n",
    "newsgroups_train = fetch_20newsgroups(subset='train', categories=categories)\n",
    "newsgroups_test = fetch_20newsgroups(subset='test', categories=categories)"
   ]
  },
  {
   "cell_type": "code",
   "execution_count": 6,
   "metadata": {
    "collapsed": false
   },
   "outputs": [
    {
     "name": "stdout",
     "output_type": "stream",
     "text": [
      "total texts in train: 1774\n",
      "total texts in test: 1180\n"
     ]
    }
   ],
   "source": [
    "print('total texts in train:',len(newsgroups_train.data))\n",
    "print('total texts in test:',len(newsgroups_test.data))"
   ]
  },
  {
   "cell_type": "code",
   "execution_count": 7,
   "metadata": {
    "collapsed": true
   },
   "outputs": [],
   "source": [
    "vocab = Counter()\n",
    "\n",
    "for text in newsgroups_train.data:\n",
    "    for word in text.split(' '):\n",
    "        vocab[word.lower()]+=1\n",
    "        \n",
    "for text in newsgroups_test.data:\n",
    "    for word in text.split(' '):\n",
    "        vocab[word.lower()]+=1"
   ]
  },
  {
   "cell_type": "code",
   "execution_count": 8,
   "metadata": {
    "collapsed": false
   },
   "outputs": [
    {
     "name": "stdout",
     "output_type": "stream",
     "text": [
      "Total words: 119930\n"
     ]
    }
   ],
   "source": [
    "print(\"Total words:\",len(vocab))"
   ]
  },
  {
   "cell_type": "code",
   "execution_count": 9,
   "metadata": {
    "collapsed": false
   },
   "outputs": [
    {
     "name": "stdout",
     "output_type": "stream",
     "text": [
      "Index of the word 'the': 48074\n"
     ]
    }
   ],
   "source": [
    "total_words = len(vocab)\n",
    "\n",
    "def get_word_2_index(vocab):\n",
    "    word2index = {}\n",
    "    for i,word in enumerate(vocab):\n",
    "        word2index[word.lower()] = i\n",
    "        \n",
    "    return word2index\n",
    "\n",
    "word2index = get_word_2_index(vocab)\n",
    "\n",
    "print(\"Index of the word 'the':\",word2index['the'])"
   ]
  },
  {
   "cell_type": "code",
   "execution_count": 10,
   "metadata": {
    "collapsed": false
   },
   "outputs": [],
   "source": [
    "def get_batch(df,i,batch_size):\n",
    "    batches = []\n",
    "    results = []\n",
    "    texts = df.data[i*batch_size:i*batch_size+batch_size]\n",
    "    categories = df.target[i*batch_size:i*batch_size+batch_size]\n",
    "    for text in texts:\n",
    "        layer = np.zeros(total_words,dtype=float)\n",
    "        for word in text.split(' '):\n",
    "            layer[word2index[word.lower()]] += 1\n",
    "            \n",
    "        batches.append(layer)\n",
    "\n",
    "    for category in categories:\n",
    "        y = np.zeros((3),dtype=float)\n",
    "        if category == 0:\n",
    "            y[0] = 1.\n",
    "        elif category == 1:\n",
    "            y[1] = 1.\n",
    "        else:\n",
    "            y[2] = 1.\n",
    "        results.append(y)\n",
    "            \n",
    "     \n",
    "    return np.array(batches),np.array(results)"
   ]
  },
  {
   "cell_type": "code",
   "execution_count": 11,
   "metadata": {
    "collapsed": true
   },
   "outputs": [],
   "source": [
    "# Parameters\n",
    "learning_rate = 0.05\n",
    "training_epochs = 20\n",
    "batch_size = 150\n",
    "display_step = 1\n",
    "\n",
    "# Network Parameters\n",
    "n_hidden_1 = 200      # 1st layer number of features\n",
    "n_hidden_2 = 100       # 2nd layer number of features\n",
    "n_hidden_3 = 50   #experimental 3rd layer\n",
    "n_input = total_words # Words in vocab\n",
    "n_classes = 3         # Categories: graphics, sci.space and baseball\n",
    "\n",
    "input_tensor = tf.placeholder(tf.float32,[None, n_input],name=\"input\")\n",
    "output_tensor = tf.placeholder(tf.float32,[None, n_classes],name=\"output\") "
   ]
  },
  {
   "cell_type": "code",
   "execution_count": 12,
   "metadata": {
    "collapsed": true
   },
   "outputs": [],
   "source": [
    "def multilayer_perceptron(input_tensor, weights, biases):\n",
    "    L1_mult = tf.matmul(input_tensor, weights['h1'])\n",
    "    L1_add  = tf.add(L1_mult, biases['b1'])\n",
    "    L1_acti = tf.nn.relu(L1_add)\n",
    "    \n",
    "    #hidden layer w/ RELU activation\n",
    "    L2_mult = tf.matmul(L1_acti, weights['h2'])\n",
    "    L2_add  = tf.add(L2_mult, biases['b2'])\n",
    "    L2_acti = tf.nn.relu(L2_add)\n",
    "    \n",
    "    \n",
    "    #Output layer w/ linear activation\n",
    "    Out_mult = tf.matmul(L2_acti, weights['out'])\n",
    "    Out_add  = Out_mult + biases['out']\n",
    "    \n",
    "    return Out_add"
   ]
  },
  {
   "cell_type": "code",
   "execution_count": 13,
   "metadata": {
    "collapsed": true
   },
   "outputs": [],
   "source": [
    "def three_layer_perceptron(input_tensor, weights, biases):\n",
    "    L1_mult = tf.matmul(input_tensor, weights['h1'])\n",
    "    L1_add  = tf.add(L1_mult, biases['b1'])\n",
    "    L1_acti = tf.nn.relu(L1_add)\n",
    "    \n",
    "    #hidden layer w/ RELU activation\n",
    "    L2_mult = tf.matmul(L1_acti, weights['h2'])\n",
    "    L2_add  = tf.add(L2_mult, biases['b2'])\n",
    "    L2_acti = tf.nn.relu(L2_add)\n",
    "    \n",
    "    #hidden layer w/ RELU activation\n",
    "    L3_mult = tf.matmul(L2_acti, weights['h3'])\n",
    "    L3_add  = tf.add(L3_mult, biases['b3'])\n",
    "    L3_acti = tf.nn.relu(L3_add)\n",
    "    \n",
    "    \n",
    "    #Output layer w/ linear activation\n",
    "    Out_mult = tf.matmul(L3_acti, weights['out'])\n",
    "    Out_add  = Out_mult + biases['out']\n",
    "    \n",
    "    return Out_add"
   ]
  },
  {
   "cell_type": "code",
   "execution_count": null,
   "metadata": {
    "collapsed": false
   },
   "outputs": [],
   "source": [
    "# Store layers weight & bias\n",
    "weights = {\n",
    "    'h1': tf.Variable(tf.random_normal([n_input, n_hidden_1])),\n",
    "    'h2': tf.Variable(tf.random_normal([n_hidden_1, n_hidden_2])),\n",
    "    'h3': tf.Variable(tf.random_normal([n_hidden_2, n_hidden_3])),\n",
    "    'out': tf.Variable(tf.random_normal([n_hidden_3, n_classes]))\n",
    "    #'out2': tf.Variable(tf.random_normal([n_hidden_2, n_classes]))\n",
    "}\n",
    "biases = {\n",
    "    'b1': tf.Variable(tf.random_normal([n_hidden_1])),\n",
    "    'b2': tf.Variable(tf.random_normal([n_hidden_2])),\n",
    "    'b3': tf.Variable(tf.random_normal([n_hidden_3])),\n",
    "    'out': tf.Variable(tf.random_normal([n_classes]))\n",
    "}\n",
    "\n",
    "# Construct model\n",
    "#prediction = multilayer_perceptron(input_tensor, weights, biases)\n",
    "prediction = three_layer_perceptron(input_tensor, weights, biases)\n",
    "\n",
    "# Define loss and optimizer\n",
    "loss = tf.reduce_mean(tf.nn.softmax_cross_entropy_with_logits(logits=prediction, labels=output_tensor))\n",
    "optimizer = tf.train.AdamOptimizer(learning_rate=learning_rate).minimize(loss)\n",
    "\n",
    "# Initializing the variables\n",
    "init = tf.global_variables_initializer()"
   ]
  },
  {
   "cell_type": "code",
   "execution_count": null,
   "metadata": {
    "collapsed": false
   },
   "outputs": [
    {
     "name": "stdout",
     "output_type": "stream",
     "text": [
      "[ 588.    0.    0. ...,    0.    0.    0.]\n",
      "[ 789.    0.    0. ...,    0.    0.    0.]\n",
      "[ 0.  0.  0. ...,  0.  0.  0.]\n",
      "[ 13.   0.   0. ...,   0.   0.   0.]\n",
      "[ 103.    0.    0. ...,    0.    0.    0.]\n"
     ]
    }
   ],
   "source": [
    "# Launch the graph\n",
    "with tf.Session() as sess:\n",
    "    sess.run(init)\n",
    "    \n",
    "    \n",
    "    # Training cycle\n",
    "    for epoch in range(training_epochs):\n",
    "\n",
    "        \n",
    "        avg_cost = 0.\n",
    "        total_batch = int(len(newsgroups_train.data)/batch_size)\n",
    "        # Loop over all batches\n",
    "        for i in range(total_batch):\n",
    "            batch_x,batch_y = get_batch(newsgroups_train,i,batch_size)\n",
    "            # Run optimization op (backprop) and cost op (to get loss value)\n",
    "            c,_ = sess.run([loss,optimizer], feed_dict={input_tensor: batch_x,output_tensor:batch_y})\n",
    "            # Compute average loss\n",
    "            avg_cost += c / total_batch\n",
    "        #for variable learning rate\n",
    "        #if avg_cost < 100:\n",
    "        #    learning_rate= .001\n",
    "        #    optimizer = tf.train.AdamOptimizer(learning_rate=learning_rate).minimize(loss)\n",
    "        #elif avg_cost < 1000:\n",
    "        #    learning_rate= .01\n",
    "        #    optimizer = tf.train.AdamOptimizer(learning_rate=learning_rate).minimize(loss)\n",
    "\n",
    "        # Display logs per epoch step\n",
    "        if epoch % display_step == 0:\n",
    "            print(\"Epoch:\", '%04d' % (epoch+1), \"loss=\", \\\n",
    "                \"{:.9f}\".format(avg_cost))\n",
    "    print(\"Optimization Finished!\")\n",
    "\n",
    "    # Test model\n",
    "    correct_prediction = tf.equal(tf.argmax(prediction, 1), tf.argmax(output_tensor, 1))\n",
    "    # Calculate accuracy\n",
    "    accuracy = tf.reduce_mean(tf.cast(correct_prediction, \"float\"))\n",
    "    total_test_data = len(newsgroups_test.target)\n",
    "    batch_x_test,batch_y_test = get_batch(newsgroups_test,0,total_test_data)\n",
    "    print(\"Accuracy:\", accuracy.eval({input_tensor: batch_x_test, output_tensor: batch_y_test}))"
   ]
  },
  {
   "cell_type": "markdown",
   "metadata": {},
   "source": [
    "2nd trial\n",
    "#Parameters\n",
    "learning_rate = 0.01\n",
    "training_epochs = 10 t\n",
    "batch_size = 150\n",
    "display_step = 1\n",
    "\n",
    "#Network Parameters\n",
    "n_hidden_1 = 10      # 1st layer number of features\n",
    "n_hidden_2 = 10       # 2nd layer number of features\n",
    "n_input = total_words # Words in vocab\n",
    "n_classes = 3         # Categories: graphics, sci.space and baseball\n",
    "\n",
    "input_tensor = tf.placeholder(tf.float32,[None, n_input],name=\"input\")\n",
    "output_tensor = tf.placeholder(tf.float32,[None, n_classes],name=\"output\") \n",
    "\n",
    "Epoch: 0001 loss= 135.036456368\n",
    "Epoch: 0002 loss= 28.945528377\n",
    "Epoch: 0003 loss= 16.062389807\n",
    "Epoch: 0004 loss= 7.733895800\n",
    "Epoch: 0005 loss= 4.695653872\n",
    "Epoch: 0006 loss= 3.015233267\n",
    "Epoch: 0007 loss= 2.054380758\n",
    "Epoch: 0008 loss= 1.708085900\n",
    "Epoch: 0009 loss= 1.342620275\n",
    "Epoch: 0010 loss= 1.057100686\n",
    "Optimization Finished!\n",
    "Accuracy: 0.499153\n",
    "\n",
    "3rd trial\n",
    "\n",
    "#Parameters\n",
    "same ^^\n",
    "\n",
    "#Network Parameters\n",
    "same ^^ expect:\n",
    "n_hidden_3 = 10   #experimental 3rd layer\n",
    "\n",
    "\n",
    "input_tensor = tf.placeholder(tf.float32,[None, n_input],name=\"input\")\n",
    "output_tensor = tf.placeholder(tf.float32,[None, n_classes],name=\"output\") \n",
    "Epoch: 0001 loss= 305.216054049\n",
    "Epoch: 0002 loss= 64.048841303\n",
    "Epoch: 0003 loss= 41.561178728\n",
    "Epoch: 0004 loss= 17.813625336\n",
    "Epoch: 0005 loss= 9.880973643\n",
    "Epoch: 0006 loss= 6.213255882\n",
    "Epoch: 0007 loss= 4.466571808\n",
    "Epoch: 0008 loss= 3.334279613\n",
    "Epoch: 0009 loss= 2.121624025\n",
    "Epoch: 0010 loss= 1.598570704\n",
    "Optimization Finished!\n",
    "Accuracy: 0.435593\n",
    "\n",
    "4th trial \n",
    "#Parameters\n",
    "learning_rate = 0.1\n",
    "\n",
    "#Network Parameters\n",
    "same ^^ expect:\n",
    "n_hidden_3 = 10   #experimental 3rd layer\n",
    "\n",
    "Epoch: 0001 loss= 64.306565350\n",
    "Epoch: 0002 loss= 1.613156026\n",
    "Epoch: 0003 loss= 1.241018111\n",
    "Epoch: 0004 loss= 1.115476229\n",
    "Epoch: 0005 loss= 1.090250947\n",
    "Epoch: 0006 loss= 1.078835011\n",
    "Epoch: 0007 loss= 1.075026642\n",
    "Epoch: 0008 loss= 1.069630363\n",
    "Epoch: 0009 loss= 1.067430366\n",
    "Epoch: 0010 loss= 1.065403862\n",
    "Optimization Finished!\n",
    "Accuracy: 0.388136\n",
    "\n",
    "5th trial\n",
    "\n",
    "n_hidden_1 = 30      # 1st layer number of features\n",
    "n_hidden_2 = 30       # 2nd layer number of features\n",
    "n_hidden_3 = 30   #experimental 3rd layer\n",
    "\n",
    "5th trial\n",
    "\n",
    "#Parameters\n",
    "learning_rate = 0.1\n",
    "training_epochs = 10\n",
    "batch_size = 150\n",
    "display_step = 1\n",
    "\n",
    "#Network Parameters\n",
    "n_hidden_1 = 30      # 1st layer number of features\n",
    "n_hidden_2 = 30       # 2nd layer number of features\n",
    "n_hidden_3 = 30   #experimental 3rd layer\n",
    "n_input = total_words # Words in vocab\n",
    "n_classes = 3         # Categories: graphics, sci.space and baseball\n",
    "\n",
    "Epoch: 0001 loss= 1701.295199308\n",
    "Epoch: 0002 loss= 284.312942505\n",
    "Epoch: 0003 loss= 98.929033800\n",
    "Epoch: 0004 loss= 33.875180071\n",
    "Epoch: 0005 loss= 10.407883243\n",
    "Epoch: 0006 loss= 2.965831166\n",
    "Epoch: 0007 loss= 1.559648185\n",
    "Epoch: 0008 loss= 0.884519023\n",
    "Epoch: 0009 loss= 0.506064798\n",
    "Epoch: 0010 loss= 0.347801045\n",
    "Optimization Finished!\n",
    "Accuracy: 0.798305\n",
    "\n",
    "6th trial\n",
    "learning_rate = 0.01\n",
    "training_epochs = 20\n",
    "batch_size = 150\n",
    "display_step = 1\n",
    "\n",
    "#Network Parameters\n",
    "n_hidden_1 = 100      # 1st layer number of features\n",
    "n_hidden_2 = 100       # 2nd layer number of features\n",
    "n_hidden_3 = 100   #experimental 3rd layer\n",
    "n_input = total_words # Words in vocab\n",
    "n_classes = 3         # Categories: graphics, sci.space and baseball\n",
    "\n",
    "Epoch: 0001 loss= 14807.826704545\n",
    "Epoch: 0002 loss= 2737.399480646\n",
    "Epoch: 0003 loss= 751.383565729\n",
    "Epoch: 0004 loss= 835.108093782\n",
    "Epoch: 0005 loss= 70.875464237\n",
    "Epoch: 0006 loss= 61.981453153\n",
    "Epoch: 0007 loss= 15.870573872\n",
    "Epoch: 0008 loss= 1.877646958\n",
    "Epoch: 0009 loss= 0.000000000\n",
    "Epoch: 0010 loss= 0.000002227\n",
    "Epoch: 0011 loss= 0.315085238\n",
    "Epoch: 0012 loss= 148.914579928\n",
    "Epoch: 0013 loss= 48.858623335\n",
    "Epoch: 0014 loss= 172.233125036\n",
    "Epoch: 0015 loss= 15.083169409\n",
    "Epoch: 0016 loss= 4.523800590\n",
    "Epoch: 0017 loss= 19.869936380\n",
    "Epoch: 0018 loss= 125.841578397\n",
    "Epoch: 0019 loss= 58.460036191\n",
    "Epoch: 0020 loss= 61.418470534\n",
    "Optimization Finished!\n",
    "Accuracy: 0.640678\n",
    "\n",
    "NOTE VARIABLE LEARNING RATE HARDER THAN EXPECTED\n",
    "\n",
    "7th trial\n",
    "#Parameters\n",
    "learning_rate = 0.01\n",
    "training_epochs = 20\n",
    "batch_size = 150\n",
    "display_step = 1\n",
    "\n",
    "#Network Parameters\n",
    "n_hidden_1 = 200      # 1st layer number of features\n",
    "n_hidden_2 = 100       # 2nd layer number of features\n",
    "n_hidden_3 = 50   #experimental 3rd layer\n",
    "n_input = total_words # Words in vocab\n",
    "n_classes = 3         # Categories: graphics, sci.space and baseball\n",
    "\n",
    "Epoch: 0001 loss= 11117.098233310\n",
    "Epoch: 0002 loss= 3103.866577148\n",
    "Epoch: 0003 loss= 1050.979390578\n",
    "Epoch: 0004 loss= 813.640111056\n",
    "Epoch: 0005 loss= 201.618627667\n",
    "Epoch: 0006 loss= 284.474298000\n",
    "Epoch: 0007 loss= 99.934818029\n",
    "Epoch: 0008 loss= 3.044649319\n",
    "Epoch: 0009 loss= 16.672658313\n",
    "Epoch: 0010 loss= 0.000000000\n",
    "Epoch: 0011 loss= 1.250501893\n",
    "Epoch: 0012 loss= 0.010494777\n",
    "Epoch: 0013 loss= 1.370239713\n",
    "Epoch: 0014 loss= 7.682522427\n",
    "Epoch: 0015 loss= 7.477358038\n",
    "Epoch: 0016 loss= 0.000000000\n",
    "Epoch: 0017 loss= 0.000000000\n",
    "Epoch: 0018 loss= 0.875486547\n",
    "Epoch: 0019 loss= 0.000000000\n",
    "Epoch: 0020 loss= 0.000000000\n",
    "Optimization Finished!\n",
    "Accuracy: 0.774576\n",
    "\n",
    "8th trial\n",
    "#Parameters\n",
    "learning_rate = 0.05 INCREASED LEARNING RATE\n",
    "training_epochs = 20\n",
    "batch_size = 150\n",
    "display_step = 1\n",
    "\n",
    "#Network Parameters\n",
    "n_hidden_1 = 200      # 1st layer number of features\n",
    "n_hidden_2 = 100       # 2nd layer number of features\n",
    "n_hidden_3 = 50   #experimental 3rd layer\n",
    "n_input = total_words # Words in vocab\n",
    "n_classes = 3         # Categories: graphics, sci.space and baseball\n",
    "Epoch: 0001 loss= 15724.468372692\n",
    "Epoch: 0002 loss= 1230.018123280\n",
    "Epoch: 0003 loss= 399.899263382\n",
    "Epoch: 0004 loss= 276.277892399\n",
    "Epoch: 0005 loss= 359.620496100\n",
    "Epoch: 0006 loss= 96.201097576\n",
    "Epoch: 0007 loss= 33.396408358\n",
    "Epoch: 0008 loss= 0.368418114\n",
    "Epoch: 0009 loss= 10.420004411\n",
    "Epoch: 0010 loss= 0.042296401\n",
    "Epoch: 0011 loss= 0.000000000\n",
    "Epoch: 0012 loss= 0.000000000\n",
    "Epoch: 0013 loss= 0.000000000\n",
    "Epoch: 0014 loss= 0.000000000\n",
    "Epoch: 0015 loss= 0.000000000\n",
    "Epoch: 0016 loss= 0.000000000\n",
    "Epoch: 0017 loss= 0.000000000\n",
    "Epoch: 0018 loss= 0.000000000\n",
    "Epoch: 0019 loss= 0.000000000\n",
    "Epoch: 0020 loss= 0.000000000\n",
    "Optimization Finished!\n",
    "Accuracy: 0.866102"
   ]
  },
  {
   "cell_type": "code",
   "execution_count": null,
   "metadata": {
    "collapsed": true
   },
   "outputs": [],
   "source": []
  },
  {
   "cell_type": "code",
   "execution_count": null,
   "metadata": {
    "collapsed": true
   },
   "outputs": [],
   "source": []
  },
  {
   "cell_type": "code",
   "execution_count": null,
   "metadata": {
    "collapsed": false
   },
   "outputs": [],
   "source": []
  },
  {
   "cell_type": "code",
   "execution_count": null,
   "metadata": {
    "collapsed": true
   },
   "outputs": [],
   "source": []
  }
 ],
 "metadata": {
  "kernelspec": {
   "display_name": "Python [conda env:tensorflow]",
   "language": "python",
   "name": "conda-env-tensorflow-py"
  },
  "language_info": {
   "codemirror_mode": {
    "name": "ipython",
    "version": 3
   },
   "file_extension": ".py",
   "mimetype": "text/x-python",
   "name": "python",
   "nbconvert_exporter": "python",
   "pygments_lexer": "ipython3",
   "version": "3.5.3"
  }
 },
 "nbformat": 4,
 "nbformat_minor": 2
}
